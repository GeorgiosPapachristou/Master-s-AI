{
  "cells": [
    {
      "cell_type": "markdown",
      "metadata": {
        "id": "view-in-github",
        "colab_type": "text"
      },
      "source": [
        "<a href=\"https://colab.research.google.com/github/GeorgiosPapachristou/Master-s-AI/blob/master/Unit07_Ex1_simple_perceptron.ipynb\" target=\"_parent\"><img src=\"https://colab.research.google.com/assets/colab-badge.svg\" alt=\"Open In Colab\"/></a>"
      ]
    },
    {
      "cell_type": "markdown",
      "metadata": {
        "id": "dqgyzK0A9jEc"
      },
      "source": [
        "### Author: Dr Mike Lakoju, CardiffMet"
      ]
    },
    {
      "cell_type": "markdown",
      "metadata": {
        "id": "KOmZD2h19jEf"
      },
      "source": [
        "### We are re-implementing the last code. With Neural networks, most implementation uses large datasets, and it is important to write our code in a more optimized manner. We will be using Numpy Library to achieve this."
      ]
    },
    {
      "cell_type": "markdown",
      "metadata": {
        "id": "6pgN0Zst9jEg"
      },
      "source": [
        "![Screenshot%202021-01-23%20at%208.19.07%20pm.png](attachment:Screenshot%202021-01-23%20at%208.19.07%20pm.png)"
      ]
    },
    {
      "cell_type": "markdown",
      "metadata": {
        "id": "pRXo8kTH9jEg"
      },
      "source": [
        "# Import Library\n"
      ]
    },
    {
      "cell_type": "code",
      "execution_count": 2,
      "metadata": {
        "id": "KLuDnYM19jEg"
      },
      "outputs": [],
      "source": [
        "import numpy as np"
      ]
    },
    {
      "cell_type": "markdown",
      "metadata": {
        "id": "yXr5rDFs9jEh"
      },
      "source": [
        "# Lets define the Inputs and weights"
      ]
    },
    {
      "cell_type": "markdown",
      "metadata": {
        "id": "2TYJs3BT9jEh"
      },
      "source": [
        "With NumPy, we work with arrays. Hence we will need to define our inputs as arrays"
      ]
    },
    {
      "cell_type": "code",
      "execution_count": 3,
      "metadata": {
        "id": "-pSCsoCn9jEh"
      },
      "outputs": [],
      "source": [
        "inputs = np.array([115, 215]) # Impact when input values changed"
      ]
    },
    {
      "cell_type": "code",
      "execution_count": 4,
      "metadata": {
        "colab": {
          "base_uri": "https://localhost:8080/"
        },
        "id": "tpnF1uoN9jEh",
        "outputId": "f65d859f-eb16-4a3a-e4b0-63a93a0bf9be"
      },
      "outputs": [
        {
          "output_type": "execute_result",
          "data": {
            "text/plain": [
              "numpy.ndarray"
            ]
          },
          "metadata": {},
          "execution_count": 4
        }
      ],
      "source": [
        "# Check the type of the inputs\n",
        "\n",
        "type(inputs)"
      ]
    },
    {
      "cell_type": "code",
      "execution_count": 5,
      "metadata": {
        "colab": {
          "base_uri": "https://localhost:8080/"
        },
        "id": "hqcVd-6R9jEi",
        "outputId": "78f95684-8c1b-49b0-ee1d-4a43ba192fc5"
      },
      "outputs": [
        {
          "output_type": "execute_result",
          "data": {
            "text/plain": [
              "115"
            ]
          },
          "metadata": {},
          "execution_count": 5
        }
      ],
      "source": [
        "# check the value at index position 0\n",
        "inputs[0]"
      ]
    },
    {
      "cell_type": "markdown",
      "metadata": {
        "id": "bychy61j9jEi"
      },
      "source": [
        "# Lets define the weights"
      ]
    },
    {
      "cell_type": "code",
      "execution_count": 6,
      "metadata": {
        "id": "pUI5qgnP9jEi"
      },
      "outputs": [],
      "source": [
        "# creating the weights as Numpy array\n",
        "\n",
        "weights = np.array([0.7, 0.1])"
      ]
    },
    {
      "cell_type": "code",
      "execution_count": 7,
      "metadata": {
        "colab": {
          "base_uri": "https://localhost:8080/"
        },
        "id": "Yl7Lrr5G9jEi",
        "outputId": "3f6d6736-03aa-47d8-f246-a6995b4f3f89"
      },
      "outputs": [
        {
          "output_type": "execute_result",
          "data": {
            "text/plain": [
              "0.7"
            ]
          },
          "metadata": {},
          "execution_count": 7
        }
      ],
      "source": [
        "# Check the value at index 0\n",
        "\n",
        "weights[0]"
      ]
    },
    {
      "cell_type": "markdown",
      "metadata": {
        "id": "rd4k4BMk9jEi"
      },
      "source": [
        "# Create the Sum Function\n"
      ]
    },
    {
      "cell_type": "markdown",
      "metadata": {
        "id": "ZonDhQdB9jEj"
      },
      "source": [
        "The dot function is called the dot product from linear algebra. If you are dealing with a huge dataset, The processing difference between the for loop used in the last notebook and this dot product will significantly be different."
      ]
    },
    {
      "cell_type": "code",
      "execution_count": 8,
      "metadata": {
        "id": "kYRhWbyq9jEj"
      },
      "outputs": [],
      "source": [
        "def sum_func(inputs, weights):\n",
        "    return inputs.dot(weights)\n",
        ""
      ]
    },
    {
      "cell_type": "code",
      "execution_count": 9,
      "metadata": {
        "colab": {
          "base_uri": "https://localhost:8080/"
        },
        "id": "SU52uO-T9jEj",
        "outputId": "fa83ad5f-df68-43f0-f0b3-a42403f77430"
      },
      "outputs": [
        {
          "output_type": "execute_result",
          "data": {
            "text/plain": [
              "102.0"
            ]
          },
          "metadata": {},
          "execution_count": 9
        }
      ],
      "source": [
        "# for weights = [0.7, 0.1]\n",
        "\n",
        "s_prob1 = sum_func(inputs, weights)\n",
        "s_prob1"
      ]
    },
    {
      "cell_type": "markdown",
      "metadata": {
        "id": "HQMkyRAE9jEj"
      },
      "source": [
        "# Create Step function"
      ]
    },
    {
      "cell_type": "code",
      "execution_count": 10,
      "metadata": {
        "id": "VSgK1G-i9jEj"
      },
      "outputs": [],
      "source": [
        "def step_function(sum_func):\n",
        "  if (sum_func >= 1):\n",
        "    print(f'The Sum Function is greater than or equal to 1')\n",
        "    return 1\n",
        "  else:\n",
        "        print(f'The Sum Function is NOT greater')\n",
        "        return 0"
      ]
    },
    {
      "cell_type": "markdown",
      "metadata": {
        "id": "jtZ8fH269jEj"
      },
      "source": [
        "### Result"
      ]
    },
    {
      "cell_type": "code",
      "execution_count": 11,
      "metadata": {
        "colab": {
          "base_uri": "https://localhost:8080/"
        },
        "id": "5RU72qTN9jEj",
        "outputId": "9cb54094-450f-4977-f7b5-83e5b6f7e609"
      },
      "outputs": [
        {
          "output_type": "stream",
          "name": "stdout",
          "text": [
            "The Sum Function is greater than or equal to 1\n"
          ]
        },
        {
          "output_type": "execute_result",
          "data": {
            "text/plain": [
              "1"
            ]
          },
          "metadata": {},
          "execution_count": 11
        }
      ],
      "source": [
        "step_function(s_prob1 )"
      ]
    },
    {
      "cell_type": "markdown",
      "metadata": {
        "id": "j7hu3rph9jEk"
      },
      "source": [
        " ## If the is weights = [- 0.7, 0.1]"
      ]
    },
    {
      "cell_type": "markdown",
      "metadata": {
        "id": "8ckT7bhV9jEk"
      },
      "source": [
        "![Screenshot%202021-01-23%20at%209.10.02%20pm.png](attachment:Screenshot%202021-01-23%20at%209.10.02%20pm.png)"
      ]
    },
    {
      "cell_type": "code",
      "execution_count": 12,
      "metadata": {
        "id": "vbDRGtNm9jEk"
      },
      "outputs": [],
      "source": [
        "weights = [-0.7, 0.1]"
      ]
    },
    {
      "cell_type": "code",
      "execution_count": 13,
      "metadata": {
        "colab": {
          "base_uri": "https://localhost:8080/"
        },
        "id": "FzQABwRB9jEk",
        "outputId": "923e86cc-f554-46dc-d4e3-2ce79c4befed"
      },
      "outputs": [
        {
          "output_type": "execute_result",
          "data": {
            "text/plain": [
              "-59.0"
            ]
          },
          "metadata": {},
          "execution_count": 13
        }
      ],
      "source": [
        "# for weights = [- 0.7, 0.1]\n",
        "\n",
        "s_prob2 = sum_func(inputs, weights)\n",
        "\n",
        "round(s_prob2, 2)  #round to 2 decimal places"
      ]
    },
    {
      "cell_type": "markdown",
      "metadata": {
        "id": "nKfOjWSj9jEk"
      },
      "source": [
        "### Result"
      ]
    },
    {
      "cell_type": "code",
      "execution_count": 14,
      "metadata": {
        "colab": {
          "base_uri": "https://localhost:8080/"
        },
        "id": "IDhW5Gal9jEk",
        "outputId": "b7ef83cf-dc98-4a4f-b1b5-d835e40d89b6"
      },
      "outputs": [
        {
          "output_type": "stream",
          "name": "stdout",
          "text": [
            "The Sum Function is NOT greater\n"
          ]
        },
        {
          "output_type": "execute_result",
          "data": {
            "text/plain": [
              "0"
            ]
          },
          "metadata": {},
          "execution_count": 14
        }
      ],
      "source": [
        "step_function(s_prob2 )"
      ]
    },
    {
      "cell_type": "markdown",
      "metadata": {
        "id": "e94D5HKF9jEk"
      },
      "source": [
        "### By changing the input values and weights observe different results"
      ]
    },
    {
      "cell_type": "code",
      "execution_count": null,
      "metadata": {
        "id": "1WS7qcsH9jEl"
      },
      "outputs": [],
      "source": []
    }
  ],
  "metadata": {
    "kernelspec": {
      "display_name": "Python 3",
      "language": "python",
      "name": "python3"
    },
    "language_info": {
      "codemirror_mode": {
        "name": "ipython",
        "version": 3
      },
      "file_extension": ".py",
      "mimetype": "text/x-python",
      "name": "python",
      "nbconvert_exporter": "python",
      "pygments_lexer": "ipython3",
      "version": "3.7.6"
    },
    "colab": {
      "provenance": [],
      "include_colab_link": true
    }
  },
  "nbformat": 4,
  "nbformat_minor": 0
}